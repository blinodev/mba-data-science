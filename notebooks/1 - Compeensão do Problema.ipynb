{
 "cells": [
  {
   "cell_type": "code",
   "execution_count": 19,
   "id": "e8d191d4",
   "metadata": {},
   "outputs": [],
   "source": [
    "import pandas as pd\n",
    "# Importando os bancos de dados\n",
    "dst = pd.read_csv(\"../data/raw/labels.csv\")\n",
    "solar_wind = pd.read_csv(\"../data/raw/solar_wind.csv\")\n",
    "sunspots = pd.read_csv(\"../data/raw/sunspots.csv\")"
   ]
  },
  {
   "cell_type": "code",
   "execution_count": 20,
   "id": "8e818d6b",
   "metadata": {},
   "outputs": [],
   "source": [
    "# 1 - COMPREENSÃO DO PROBLEMA - Alterando os nomes das variáveis\n",
    "\n",
    "dst.rename(columns={'period':'per',\n",
    "                          'timedelta': 'dur',\n",
    "                          }, inplace=True)\n",
    "\n",
    "#  Alterando os nomes das variáveis\n",
    "sunspots.rename(columns={'period':'per',\n",
    "                          'timedelta': 'dur',\n",
    "                          'smoothed_ssn': 'med',}, inplace=True)\n",
    "\n",
    "#   Alterando os nomes das variáveis\n",
    "solar_wind.rename(columns={'period':'per',\n",
    "                          'timedelta': 'dur',\n",
    "                          'bt': 'mag',\n",
    "                          'density': 'den',\n",
    "                          'speed': 'vel',\n",
    "                          'temperature': 'temp',\n",
    "                           }, inplace=True)\n",
    "\n",
    "# 1.Conversão dos intervalos de tempo para dados númericos;\n",
    "dst['dur'] = pd.to_timedelta(dst['dur'])\n",
    "sunspots['dur'] = pd.to_timedelta(sunspots['dur'])\n",
    "solar_wind['dur'] = pd.to_timedelta(solar_wind['dur'])\n",
    "\n",
    "# 2.Setar multi-índices compostos;\n",
    "dst.set_index(['per', 'dur'], inplace=True)\n",
    "sunspots.set_index(['per', 'dur'], inplace=True)\n",
    "solar_wind.set_index(['per', 'dur'], inplace=True)"
   ]
  },
  {
   "cell_type": "code",
   "execution_count": null,
   "id": "cdd3dde3",
   "metadata": {},
   "outputs": [],
   "source": [
    "import sys\n",
    "import os\n",
    "import importlib\n",
    "\n",
    "# Garante que o caminho src está no sys.path\n",
    "sys.path.append(os.path.abspath(\"../src\"))\n",
    "\n",
    "# Importa e força recarregar o módulo utils\n",
    "import utils as utils\n",
    "importlib.reload(utils)\n",
    "\n",
    "# Importa as funções do módulo atualizado\n",
    "from utils import (\n",
    "    relatorio_missing, \n",
    "    resumo_dados, \n",
    "    visualizar_descritivas_dst,\n",
    "    visualizar_descritivas_manchas,\n",
    "    visualizar_descritivas_vento_solar\n",
    ")\n"
   ]
  },
  {
   "cell_type": "code",
   "execution_count": 27,
   "id": "82fa3056",
   "metadata": {},
   "outputs": [
    {
     "name": "stdout",
     "output_type": "stream",
     "text": [
      "per                train_a       train_b       train_c\n",
      "bx_gse count  1.575012e+06  3.084130e+06  3.407290e+06\n",
      "       mean  -1.781301e+00 -3.088789e-01 -4.619076e-01\n",
      "       std    4.339212e+00  3.627830e+00  3.245485e+00\n",
      "       min   -5.463000e+01 -2.937000e+01 -4.546000e+01\n",
      "       25%   -4.960000e+00 -3.070000e+00 -2.800000e+00\n"
     ]
    }
   ],
   "source": [
    "print(visualizar_descritivas_vento_solar(df).head().to_string())\n"
   ]
  },
  {
   "cell_type": "code",
   "execution_count": 32,
   "id": "2cb08ea7",
   "metadata": {},
   "outputs": [
    {
     "name": "stdout",
     "output_type": "stream",
     "text": [
      "\n",
      "🔍 Análise para: DST\n",
      "\n",
      "📊 Valores faltantes:\n",
      "Número de linhas: 139872 | Número de colunas: 1\n"
     ]
    },
    {
     "data": {
      "text/html": [
       "<div>\n",
       "<style scoped>\n",
       "    .dataframe tbody tr th:only-of-type {\n",
       "        vertical-align: middle;\n",
       "    }\n",
       "\n",
       "    .dataframe tbody tr th {\n",
       "        vertical-align: top;\n",
       "    }\n",
       "\n",
       "    .dataframe thead th {\n",
       "        text-align: right;\n",
       "    }\n",
       "</style>\n",
       "<table border=\"1\" class=\"dataframe\">\n",
       "  <thead>\n",
       "    <tr style=\"text-align: right;\">\n",
       "      <th></th>\n",
       "      <th>Pct_missing</th>\n",
       "      <th>Freq_missing</th>\n",
       "    </tr>\n",
       "  </thead>\n",
       "  <tbody>\n",
       "    <tr>\n",
       "      <th>dst</th>\n",
       "      <td>0.0%</td>\n",
       "      <td>0</td>\n",
       "    </tr>\n",
       "  </tbody>\n",
       "</table>\n",
       "</div>"
      ],
      "text/plain": [
       "    Pct_missing  Freq_missing\n",
       "dst        0.0%             0"
      ]
     },
     "metadata": {},
     "output_type": "display_data"
    },
    {
     "name": "stdout",
     "output_type": "stream",
     "text": [
      "\n",
      "📋 Resumo estatístico:\n"
     ]
    },
    {
     "data": {
      "text/markdown": [
       "### 📌 DST"
      ],
      "text/plain": [
       "<IPython.core.display.Markdown object>"
      ]
     },
     "metadata": {},
     "output_type": "display_data"
    },
    {
     "data": {
      "text/markdown": [
       "**🔹 Primeiras linhas:**"
      ],
      "text/plain": [
       "<IPython.core.display.Markdown object>"
      ]
     },
     "metadata": {},
     "output_type": "display_data"
    },
    {
     "data": {
      "text/html": [
       "<div>\n",
       "<style scoped>\n",
       "    .dataframe tbody tr th:only-of-type {\n",
       "        vertical-align: middle;\n",
       "    }\n",
       "\n",
       "    .dataframe tbody tr th {\n",
       "        vertical-align: top;\n",
       "    }\n",
       "\n",
       "    .dataframe thead th {\n",
       "        text-align: right;\n",
       "    }\n",
       "</style>\n",
       "<table border=\"1\" class=\"dataframe\">\n",
       "  <thead>\n",
       "    <tr style=\"text-align: right;\">\n",
       "      <th></th>\n",
       "      <th></th>\n",
       "      <th>dst</th>\n",
       "    </tr>\n",
       "    <tr>\n",
       "      <th>per</th>\n",
       "      <th>dur</th>\n",
       "      <th></th>\n",
       "    </tr>\n",
       "  </thead>\n",
       "  <tbody>\n",
       "    <tr>\n",
       "      <th rowspan=\"5\" valign=\"top\">train_a</th>\n",
       "      <th>0 days 00:00:00</th>\n",
       "      <td>-7</td>\n",
       "    </tr>\n",
       "    <tr>\n",
       "      <th>0 days 01:00:00</th>\n",
       "      <td>-10</td>\n",
       "    </tr>\n",
       "    <tr>\n",
       "      <th>0 days 02:00:00</th>\n",
       "      <td>-10</td>\n",
       "    </tr>\n",
       "    <tr>\n",
       "      <th>0 days 03:00:00</th>\n",
       "      <td>-6</td>\n",
       "    </tr>\n",
       "    <tr>\n",
       "      <th>0 days 04:00:00</th>\n",
       "      <td>-2</td>\n",
       "    </tr>\n",
       "  </tbody>\n",
       "</table>\n",
       "</div>"
      ],
      "text/plain": [
       "                         dst\n",
       "per     dur                 \n",
       "train_a 0 days 00:00:00   -7\n",
       "        0 days 01:00:00  -10\n",
       "        0 days 02:00:00  -10\n",
       "        0 days 03:00:00   -6\n",
       "        0 days 04:00:00   -2"
      ]
     },
     "metadata": {},
     "output_type": "display_data"
    },
    {
     "data": {
      "text/markdown": [
       "**🔹 Informações da Tabela:**"
      ],
      "text/plain": [
       "<IPython.core.display.Markdown object>"
      ]
     },
     "metadata": {},
     "output_type": "display_data"
    },
    {
     "data": {
      "text/html": [
       "<div>\n",
       "<style scoped>\n",
       "    .dataframe tbody tr th:only-of-type {\n",
       "        vertical-align: middle;\n",
       "    }\n",
       "\n",
       "    .dataframe tbody tr th {\n",
       "        vertical-align: top;\n",
       "    }\n",
       "\n",
       "    .dataframe thead th {\n",
       "        text-align: right;\n",
       "    }\n",
       "</style>\n",
       "<table border=\"1\" class=\"dataframe\">\n",
       "  <thead>\n",
       "    <tr style=\"text-align: right;\">\n",
       "      <th></th>\n",
       "      <th>Tipo</th>\n",
       "      <th>Nulos</th>\n",
       "      <th>% Nulos</th>\n",
       "    </tr>\n",
       "  </thead>\n",
       "  <tbody>\n",
       "    <tr>\n",
       "      <th>dst</th>\n",
       "      <td>int64</td>\n",
       "      <td>0</td>\n",
       "      <td>0.0%</td>\n",
       "    </tr>\n",
       "  </tbody>\n",
       "</table>\n",
       "</div>"
      ],
      "text/plain": [
       "      Tipo  Nulos % Nulos\n",
       "dst  int64      0    0.0%"
      ]
     },
     "metadata": {},
     "output_type": "display_data"
    },
    {
     "name": "stdout",
     "output_type": "stream",
     "text": [
      "\n",
      "📈 Estatísticas por período:\n",
      "\n",
      "             dst                                                    \n",
      "           count       mean        std    min   25%   50%  75%   max\n",
      "per                                                                 \n",
      "train_a  28824.0 -16.576707  26.083191 -387.0 -26.0 -12.0 -1.0  65.0\n",
      "train_b  52584.0  -9.695154  16.443049 -223.0 -17.0  -7.0  1.0  59.0\n",
      "train_c  58464.0  -9.556325  16.506404 -374.0 -16.0  -7.0  0.0  67.0\n",
      "\n",
      "🔍 Análise para: Manchas Solares\n",
      "\n",
      "📊 Valores faltantes:\n",
      "Número de linhas: 192 | Número de colunas: 1\n"
     ]
    },
    {
     "data": {
      "text/html": [
       "<div>\n",
       "<style scoped>\n",
       "    .dataframe tbody tr th:only-of-type {\n",
       "        vertical-align: middle;\n",
       "    }\n",
       "\n",
       "    .dataframe tbody tr th {\n",
       "        vertical-align: top;\n",
       "    }\n",
       "\n",
       "    .dataframe thead th {\n",
       "        text-align: right;\n",
       "    }\n",
       "</style>\n",
       "<table border=\"1\" class=\"dataframe\">\n",
       "  <thead>\n",
       "    <tr style=\"text-align: right;\">\n",
       "      <th></th>\n",
       "      <th>Pct_missing</th>\n",
       "      <th>Freq_missing</th>\n",
       "    </tr>\n",
       "  </thead>\n",
       "  <tbody>\n",
       "    <tr>\n",
       "      <th>med</th>\n",
       "      <td>0.0%</td>\n",
       "      <td>0</td>\n",
       "    </tr>\n",
       "  </tbody>\n",
       "</table>\n",
       "</div>"
      ],
      "text/plain": [
       "    Pct_missing  Freq_missing\n",
       "med        0.0%             0"
      ]
     },
     "metadata": {},
     "output_type": "display_data"
    },
    {
     "name": "stdout",
     "output_type": "stream",
     "text": [
      "\n",
      "📋 Resumo estatístico:\n"
     ]
    },
    {
     "data": {
      "text/markdown": [
       "### 📌 Manchas Solares"
      ],
      "text/plain": [
       "<IPython.core.display.Markdown object>"
      ]
     },
     "metadata": {},
     "output_type": "display_data"
    },
    {
     "data": {
      "text/markdown": [
       "**🔹 Primeiras linhas:**"
      ],
      "text/plain": [
       "<IPython.core.display.Markdown object>"
      ]
     },
     "metadata": {},
     "output_type": "display_data"
    },
    {
     "data": {
      "text/html": [
       "<div>\n",
       "<style scoped>\n",
       "    .dataframe tbody tr th:only-of-type {\n",
       "        vertical-align: middle;\n",
       "    }\n",
       "\n",
       "    .dataframe tbody tr th {\n",
       "        vertical-align: top;\n",
       "    }\n",
       "\n",
       "    .dataframe thead th {\n",
       "        text-align: right;\n",
       "    }\n",
       "</style>\n",
       "<table border=\"1\" class=\"dataframe\">\n",
       "  <thead>\n",
       "    <tr style=\"text-align: right;\">\n",
       "      <th></th>\n",
       "      <th></th>\n",
       "      <th>med</th>\n",
       "    </tr>\n",
       "    <tr>\n",
       "      <th>per</th>\n",
       "      <th>dur</th>\n",
       "      <th></th>\n",
       "    </tr>\n",
       "  </thead>\n",
       "  <tbody>\n",
       "    <tr>\n",
       "      <th rowspan=\"5\" valign=\"top\">train_a</th>\n",
       "      <th>0 days</th>\n",
       "      <td>65.4</td>\n",
       "    </tr>\n",
       "    <tr>\n",
       "      <th>13 days</th>\n",
       "      <td>72.0</td>\n",
       "    </tr>\n",
       "    <tr>\n",
       "      <th>44 days</th>\n",
       "      <td>76.9</td>\n",
       "    </tr>\n",
       "    <tr>\n",
       "      <th>74 days</th>\n",
       "      <td>80.8</td>\n",
       "    </tr>\n",
       "    <tr>\n",
       "      <th>105 days</th>\n",
       "      <td>85.4</td>\n",
       "    </tr>\n",
       "  </tbody>\n",
       "</table>\n",
       "</div>"
      ],
      "text/plain": [
       "                   med\n",
       "per     dur           \n",
       "train_a 0 days    65.4\n",
       "        13 days   72.0\n",
       "        44 days   76.9\n",
       "        74 days   80.8\n",
       "        105 days  85.4"
      ]
     },
     "metadata": {},
     "output_type": "display_data"
    },
    {
     "data": {
      "text/markdown": [
       "**🔹 Informações da Tabela:**"
      ],
      "text/plain": [
       "<IPython.core.display.Markdown object>"
      ]
     },
     "metadata": {},
     "output_type": "display_data"
    },
    {
     "data": {
      "text/html": [
       "<div>\n",
       "<style scoped>\n",
       "    .dataframe tbody tr th:only-of-type {\n",
       "        vertical-align: middle;\n",
       "    }\n",
       "\n",
       "    .dataframe tbody tr th {\n",
       "        vertical-align: top;\n",
       "    }\n",
       "\n",
       "    .dataframe thead th {\n",
       "        text-align: right;\n",
       "    }\n",
       "</style>\n",
       "<table border=\"1\" class=\"dataframe\">\n",
       "  <thead>\n",
       "    <tr style=\"text-align: right;\">\n",
       "      <th></th>\n",
       "      <th>Tipo</th>\n",
       "      <th>Nulos</th>\n",
       "      <th>% Nulos</th>\n",
       "    </tr>\n",
       "  </thead>\n",
       "  <tbody>\n",
       "    <tr>\n",
       "      <th>med</th>\n",
       "      <td>float64</td>\n",
       "      <td>0</td>\n",
       "      <td>0.0%</td>\n",
       "    </tr>\n",
       "  </tbody>\n",
       "</table>\n",
       "</div>"
      ],
      "text/plain": [
       "        Tipo  Nulos % Nulos\n",
       "med  float64      0    0.0%"
      ]
     },
     "metadata": {},
     "output_type": "display_data"
    },
    {
     "name": "stdout",
     "output_type": "stream",
     "text": [
      "\n",
      "📈 Estatísticas por período:\n",
      "\n",
      "per       train_a    train_b    train_c\n",
      "count   40.000000  72.000000  80.000000\n",
      "mean   136.902500  51.850000  24.313750\n",
      "std     34.563168  39.200266  19.020414\n",
      "min     65.400000   3.900000   2.200000\n",
      "25%    108.375000  15.325000   7.775000\n",
      "\n",
      "🔍 Análise para: Vento Solar\n",
      "\n",
      "📊 Valores faltantes:\n",
      "Número de linhas: 8392320 | Número de colunas: 15\n"
     ]
    },
    {
     "data": {
      "text/html": [
       "<div>\n",
       "<style scoped>\n",
       "    .dataframe tbody tr th:only-of-type {\n",
       "        vertical-align: middle;\n",
       "    }\n",
       "\n",
       "    .dataframe tbody tr th {\n",
       "        vertical-align: top;\n",
       "    }\n",
       "\n",
       "    .dataframe thead th {\n",
       "        text-align: right;\n",
       "    }\n",
       "</style>\n",
       "<table border=\"1\" class=\"dataframe\">\n",
       "  <thead>\n",
       "    <tr style=\"text-align: right;\">\n",
       "      <th></th>\n",
       "      <th>Pct_missing</th>\n",
       "      <th>Freq_missing</th>\n",
       "    </tr>\n",
       "  </thead>\n",
       "  <tbody>\n",
       "    <tr>\n",
       "      <th>bx_gse</th>\n",
       "      <td>3.9%</td>\n",
       "      <td>325888</td>\n",
       "    </tr>\n",
       "    <tr>\n",
       "      <th>by_gse</th>\n",
       "      <td>3.9%</td>\n",
       "      <td>325888</td>\n",
       "    </tr>\n",
       "    <tr>\n",
       "      <th>bz_gse</th>\n",
       "      <td>3.9%</td>\n",
       "      <td>325888</td>\n",
       "    </tr>\n",
       "    <tr>\n",
       "      <th>theta_gse</th>\n",
       "      <td>3.9%</td>\n",
       "      <td>325888</td>\n",
       "    </tr>\n",
       "    <tr>\n",
       "      <th>phi_gse</th>\n",
       "      <td>3.9%</td>\n",
       "      <td>326388</td>\n",
       "    </tr>\n",
       "    <tr>\n",
       "      <th>bx_gsm</th>\n",
       "      <td>3.9%</td>\n",
       "      <td>325888</td>\n",
       "    </tr>\n",
       "    <tr>\n",
       "      <th>by_gsm</th>\n",
       "      <td>3.9%</td>\n",
       "      <td>325888</td>\n",
       "    </tr>\n",
       "    <tr>\n",
       "      <th>bz_gsm</th>\n",
       "      <td>3.9%</td>\n",
       "      <td>325888</td>\n",
       "    </tr>\n",
       "    <tr>\n",
       "      <th>theta_gsm</th>\n",
       "      <td>3.9%</td>\n",
       "      <td>325888</td>\n",
       "    </tr>\n",
       "    <tr>\n",
       "      <th>phi_gsm</th>\n",
       "      <td>3.9%</td>\n",
       "      <td>326388</td>\n",
       "    </tr>\n",
       "    <tr>\n",
       "      <th>mag</th>\n",
       "      <td>3.9%</td>\n",
       "      <td>325888</td>\n",
       "    </tr>\n",
       "    <tr>\n",
       "      <th>den</th>\n",
       "      <td>8.2%</td>\n",
       "      <td>684890</td>\n",
       "    </tr>\n",
       "    <tr>\n",
       "      <th>vel</th>\n",
       "      <td>8.2%</td>\n",
       "      <td>689555</td>\n",
       "    </tr>\n",
       "    <tr>\n",
       "      <th>temp</th>\n",
       "      <td>9.7%</td>\n",
       "      <td>811768</td>\n",
       "    </tr>\n",
       "    <tr>\n",
       "      <th>source</th>\n",
       "      <td>3.8%</td>\n",
       "      <td>316816</td>\n",
       "    </tr>\n",
       "  </tbody>\n",
       "</table>\n",
       "</div>"
      ],
      "text/plain": [
       "          Pct_missing  Freq_missing\n",
       "bx_gse           3.9%        325888\n",
       "by_gse           3.9%        325888\n",
       "bz_gse           3.9%        325888\n",
       "theta_gse        3.9%        325888\n",
       "phi_gse          3.9%        326388\n",
       "bx_gsm           3.9%        325888\n",
       "by_gsm           3.9%        325888\n",
       "bz_gsm           3.9%        325888\n",
       "theta_gsm        3.9%        325888\n",
       "phi_gsm          3.9%        326388\n",
       "mag              3.9%        325888\n",
       "den              8.2%        684890\n",
       "vel              8.2%        689555\n",
       "temp             9.7%        811768\n",
       "source           3.8%        316816"
      ]
     },
     "metadata": {},
     "output_type": "display_data"
    },
    {
     "name": "stdout",
     "output_type": "stream",
     "text": [
      "\n",
      "📋 Resumo estatístico:\n"
     ]
    },
    {
     "data": {
      "text/markdown": [
       "### 📌 Vento Solar"
      ],
      "text/plain": [
       "<IPython.core.display.Markdown object>"
      ]
     },
     "metadata": {},
     "output_type": "display_data"
    },
    {
     "data": {
      "text/markdown": [
       "**🔹 Primeiras linhas:**"
      ],
      "text/plain": [
       "<IPython.core.display.Markdown object>"
      ]
     },
     "metadata": {},
     "output_type": "display_data"
    },
    {
     "data": {
      "text/html": [
       "<div>\n",
       "<style scoped>\n",
       "    .dataframe tbody tr th:only-of-type {\n",
       "        vertical-align: middle;\n",
       "    }\n",
       "\n",
       "    .dataframe tbody tr th {\n",
       "        vertical-align: top;\n",
       "    }\n",
       "\n",
       "    .dataframe thead th {\n",
       "        text-align: right;\n",
       "    }\n",
       "</style>\n",
       "<table border=\"1\" class=\"dataframe\">\n",
       "  <thead>\n",
       "    <tr style=\"text-align: right;\">\n",
       "      <th></th>\n",
       "      <th></th>\n",
       "      <th>bx_gse</th>\n",
       "      <th>by_gse</th>\n",
       "      <th>bz_gse</th>\n",
       "      <th>theta_gse</th>\n",
       "      <th>phi_gse</th>\n",
       "      <th>bx_gsm</th>\n",
       "      <th>by_gsm</th>\n",
       "      <th>bz_gsm</th>\n",
       "      <th>theta_gsm</th>\n",
       "      <th>phi_gsm</th>\n",
       "      <th>mag</th>\n",
       "      <th>den</th>\n",
       "      <th>vel</th>\n",
       "      <th>temp</th>\n",
       "      <th>source</th>\n",
       "    </tr>\n",
       "    <tr>\n",
       "      <th>per</th>\n",
       "      <th>dur</th>\n",
       "      <th></th>\n",
       "      <th></th>\n",
       "      <th></th>\n",
       "      <th></th>\n",
       "      <th></th>\n",
       "      <th></th>\n",
       "      <th></th>\n",
       "      <th></th>\n",
       "      <th></th>\n",
       "      <th></th>\n",
       "      <th></th>\n",
       "      <th></th>\n",
       "      <th></th>\n",
       "      <th></th>\n",
       "      <th></th>\n",
       "    </tr>\n",
       "  </thead>\n",
       "  <tbody>\n",
       "    <tr>\n",
       "      <th rowspan=\"5\" valign=\"top\">train_a</th>\n",
       "      <th>0 days 00:00:00</th>\n",
       "      <td>-5.55</td>\n",
       "      <td>3.00</td>\n",
       "      <td>1.25</td>\n",
       "      <td>11.09</td>\n",
       "      <td>153.37</td>\n",
       "      <td>-5.55</td>\n",
       "      <td>3.00</td>\n",
       "      <td>1.25</td>\n",
       "      <td>11.09</td>\n",
       "      <td>153.37</td>\n",
       "      <td>6.80</td>\n",
       "      <td>1.53</td>\n",
       "      <td>383.92</td>\n",
       "      <td>110237.0</td>\n",
       "      <td>ac</td>\n",
       "    </tr>\n",
       "    <tr>\n",
       "      <th>0 days 00:01:00</th>\n",
       "      <td>-5.58</td>\n",
       "      <td>3.16</td>\n",
       "      <td>1.17</td>\n",
       "      <td>10.10</td>\n",
       "      <td>151.91</td>\n",
       "      <td>-5.58</td>\n",
       "      <td>3.16</td>\n",
       "      <td>1.17</td>\n",
       "      <td>10.10</td>\n",
       "      <td>151.91</td>\n",
       "      <td>6.83</td>\n",
       "      <td>1.69</td>\n",
       "      <td>381.79</td>\n",
       "      <td>123825.0</td>\n",
       "      <td>ac</td>\n",
       "    </tr>\n",
       "    <tr>\n",
       "      <th>0 days 00:02:00</th>\n",
       "      <td>-5.15</td>\n",
       "      <td>3.66</td>\n",
       "      <td>0.85</td>\n",
       "      <td>7.87</td>\n",
       "      <td>146.04</td>\n",
       "      <td>-5.15</td>\n",
       "      <td>3.66</td>\n",
       "      <td>0.85</td>\n",
       "      <td>7.87</td>\n",
       "      <td>146.04</td>\n",
       "      <td>6.77</td>\n",
       "      <td>1.97</td>\n",
       "      <td>389.11</td>\n",
       "      <td>82548.0</td>\n",
       "      <td>ac</td>\n",
       "    </tr>\n",
       "    <tr>\n",
       "      <th>0 days 00:03:00</th>\n",
       "      <td>-5.20</td>\n",
       "      <td>3.68</td>\n",
       "      <td>0.68</td>\n",
       "      <td>6.17</td>\n",
       "      <td>146.17</td>\n",
       "      <td>-5.20</td>\n",
       "      <td>3.68</td>\n",
       "      <td>0.68</td>\n",
       "      <td>6.17</td>\n",
       "      <td>146.17</td>\n",
       "      <td>6.74</td>\n",
       "      <td>1.97</td>\n",
       "      <td>389.11</td>\n",
       "      <td>82548.0</td>\n",
       "      <td>ac</td>\n",
       "    </tr>\n",
       "    <tr>\n",
       "      <th>0 days 00:04:00</th>\n",
       "      <td>-5.12</td>\n",
       "      <td>3.68</td>\n",
       "      <td>0.49</td>\n",
       "      <td>4.62</td>\n",
       "      <td>145.72</td>\n",
       "      <td>-5.12</td>\n",
       "      <td>3.68</td>\n",
       "      <td>0.49</td>\n",
       "      <td>4.62</td>\n",
       "      <td>145.72</td>\n",
       "      <td>6.65</td>\n",
       "      <td>1.77</td>\n",
       "      <td>384.26</td>\n",
       "      <td>94269.0</td>\n",
       "      <td>ac</td>\n",
       "    </tr>\n",
       "  </tbody>\n",
       "</table>\n",
       "</div>"
      ],
      "text/plain": [
       "                         bx_gse  by_gse  bz_gse  theta_gse  phi_gse  bx_gsm  \\\n",
       "per     dur                                                                   \n",
       "train_a 0 days 00:00:00   -5.55    3.00    1.25      11.09   153.37   -5.55   \n",
       "        0 days 00:01:00   -5.58    3.16    1.17      10.10   151.91   -5.58   \n",
       "        0 days 00:02:00   -5.15    3.66    0.85       7.87   146.04   -5.15   \n",
       "        0 days 00:03:00   -5.20    3.68    0.68       6.17   146.17   -5.20   \n",
       "        0 days 00:04:00   -5.12    3.68    0.49       4.62   145.72   -5.12   \n",
       "\n",
       "                         by_gsm  bz_gsm  theta_gsm  phi_gsm   mag   den  \\\n",
       "per     dur                                                               \n",
       "train_a 0 days 00:00:00    3.00    1.25      11.09   153.37  6.80  1.53   \n",
       "        0 days 00:01:00    3.16    1.17      10.10   151.91  6.83  1.69   \n",
       "        0 days 00:02:00    3.66    0.85       7.87   146.04  6.77  1.97   \n",
       "        0 days 00:03:00    3.68    0.68       6.17   146.17  6.74  1.97   \n",
       "        0 days 00:04:00    3.68    0.49       4.62   145.72  6.65  1.77   \n",
       "\n",
       "                            vel      temp source  \n",
       "per     dur                                       \n",
       "train_a 0 days 00:00:00  383.92  110237.0     ac  \n",
       "        0 days 00:01:00  381.79  123825.0     ac  \n",
       "        0 days 00:02:00  389.11   82548.0     ac  \n",
       "        0 days 00:03:00  389.11   82548.0     ac  \n",
       "        0 days 00:04:00  384.26   94269.0     ac  "
      ]
     },
     "metadata": {},
     "output_type": "display_data"
    },
    {
     "data": {
      "text/markdown": [
       "**🔹 Informações da Tabela:**"
      ],
      "text/plain": [
       "<IPython.core.display.Markdown object>"
      ]
     },
     "metadata": {},
     "output_type": "display_data"
    },
    {
     "data": {
      "text/html": [
       "<div>\n",
       "<style scoped>\n",
       "    .dataframe tbody tr th:only-of-type {\n",
       "        vertical-align: middle;\n",
       "    }\n",
       "\n",
       "    .dataframe tbody tr th {\n",
       "        vertical-align: top;\n",
       "    }\n",
       "\n",
       "    .dataframe thead th {\n",
       "        text-align: right;\n",
       "    }\n",
       "</style>\n",
       "<table border=\"1\" class=\"dataframe\">\n",
       "  <thead>\n",
       "    <tr style=\"text-align: right;\">\n",
       "      <th></th>\n",
       "      <th>Tipo</th>\n",
       "      <th>Nulos</th>\n",
       "      <th>% Nulos</th>\n",
       "    </tr>\n",
       "  </thead>\n",
       "  <tbody>\n",
       "    <tr>\n",
       "      <th>bx_gse</th>\n",
       "      <td>float64</td>\n",
       "      <td>325888</td>\n",
       "      <td>3.9%</td>\n",
       "    </tr>\n",
       "    <tr>\n",
       "      <th>by_gse</th>\n",
       "      <td>float64</td>\n",
       "      <td>325888</td>\n",
       "      <td>3.9%</td>\n",
       "    </tr>\n",
       "    <tr>\n",
       "      <th>bz_gse</th>\n",
       "      <td>float64</td>\n",
       "      <td>325888</td>\n",
       "      <td>3.9%</td>\n",
       "    </tr>\n",
       "    <tr>\n",
       "      <th>theta_gse</th>\n",
       "      <td>float64</td>\n",
       "      <td>325888</td>\n",
       "      <td>3.9%</td>\n",
       "    </tr>\n",
       "    <tr>\n",
       "      <th>phi_gse</th>\n",
       "      <td>float64</td>\n",
       "      <td>326388</td>\n",
       "      <td>3.9%</td>\n",
       "    </tr>\n",
       "    <tr>\n",
       "      <th>bx_gsm</th>\n",
       "      <td>float64</td>\n",
       "      <td>325888</td>\n",
       "      <td>3.9%</td>\n",
       "    </tr>\n",
       "    <tr>\n",
       "      <th>by_gsm</th>\n",
       "      <td>float64</td>\n",
       "      <td>325888</td>\n",
       "      <td>3.9%</td>\n",
       "    </tr>\n",
       "    <tr>\n",
       "      <th>bz_gsm</th>\n",
       "      <td>float64</td>\n",
       "      <td>325888</td>\n",
       "      <td>3.9%</td>\n",
       "    </tr>\n",
       "    <tr>\n",
       "      <th>theta_gsm</th>\n",
       "      <td>float64</td>\n",
       "      <td>325888</td>\n",
       "      <td>3.9%</td>\n",
       "    </tr>\n",
       "    <tr>\n",
       "      <th>phi_gsm</th>\n",
       "      <td>float64</td>\n",
       "      <td>326388</td>\n",
       "      <td>3.9%</td>\n",
       "    </tr>\n",
       "    <tr>\n",
       "      <th>mag</th>\n",
       "      <td>float64</td>\n",
       "      <td>325888</td>\n",
       "      <td>3.9%</td>\n",
       "    </tr>\n",
       "    <tr>\n",
       "      <th>den</th>\n",
       "      <td>float64</td>\n",
       "      <td>684890</td>\n",
       "      <td>8.2%</td>\n",
       "    </tr>\n",
       "    <tr>\n",
       "      <th>vel</th>\n",
       "      <td>float64</td>\n",
       "      <td>689555</td>\n",
       "      <td>8.2%</td>\n",
       "    </tr>\n",
       "    <tr>\n",
       "      <th>temp</th>\n",
       "      <td>float64</td>\n",
       "      <td>811768</td>\n",
       "      <td>9.7%</td>\n",
       "    </tr>\n",
       "    <tr>\n",
       "      <th>source</th>\n",
       "      <td>object</td>\n",
       "      <td>316816</td>\n",
       "      <td>3.8%</td>\n",
       "    </tr>\n",
       "  </tbody>\n",
       "</table>\n",
       "</div>"
      ],
      "text/plain": [
       "              Tipo   Nulos % Nulos\n",
       "bx_gse     float64  325888    3.9%\n",
       "by_gse     float64  325888    3.9%\n",
       "bz_gse     float64  325888    3.9%\n",
       "theta_gse  float64  325888    3.9%\n",
       "phi_gse    float64  326388    3.9%\n",
       "bx_gsm     float64  325888    3.9%\n",
       "by_gsm     float64  325888    3.9%\n",
       "bz_gsm     float64  325888    3.9%\n",
       "theta_gsm  float64  325888    3.9%\n",
       "phi_gsm    float64  326388    3.9%\n",
       "mag        float64  325888    3.9%\n",
       "den        float64  684890    8.2%\n",
       "vel        float64  689555    8.2%\n",
       "temp       float64  811768    9.7%\n",
       "source      object  316816    3.8%"
      ]
     },
     "metadata": {},
     "output_type": "display_data"
    },
    {
     "name": "stdout",
     "output_type": "stream",
     "text": [
      "\n",
      "📈 Estatísticas por período:\n",
      "\n",
      "per                train_a       train_b       train_c\n",
      "bx_gse count  1.575012e+06  3.084130e+06  3.407290e+06\n",
      "       mean  -1.781301e+00 -3.088789e-01 -4.619076e-01\n",
      "       std    4.339212e+00  3.627830e+00  3.245485e+00\n",
      "       min   -5.463000e+01 -2.937000e+01 -4.546000e+01\n",
      "       25%   -4.960000e+00 -3.070000e+00 -2.800000e+00\n"
     ]
    }
   ],
   "source": [
    "# Dicionário de datasets\n",
    "datasets = {\n",
    "    \"DST\": dst,\n",
    "    \"Manchas Solares\": sunspots,\n",
    "    \"Vento Solar\": solar_wind\n",
    "}\n",
    "\n",
    "# Loop principal de análise\n",
    "for nome, df in datasets.items():\n",
    "    print(f\"\\n🔍 Análise para: {nome}\")\n",
    "\n",
    "    print(\"\\n📊 Valores faltantes:\")\n",
    "    display(relatorio_missing(df))\n",
    "\n",
    "    print(f\"\\n📋 Resumo estatístico:\")\n",
    "    resumo_dados(nome, df)\n",
    "\n",
    "    print(f\"\\n📈 Estatísticas por período:\\n\")\n",
    "    \n",
    "    if \"dst\" in nome.lower():\n",
    "        print(visualizar_descritivas_dst(df).head().to_string())\n",
    "    \n",
    "    elif \"manchas\" in nome.lower():\n",
    "        print(visualizar_descritivas_manchas(df).head().to_string())\n",
    "    \n",
    "    elif \"vento\" in nome.lower():\n",
    "        print(visualizar_descritivas_vento_solar(df).head().to_string())\n"
   ]
  },
  {
   "cell_type": "code",
   "execution_count": null,
   "id": "a0156983",
   "metadata": {},
   "outputs": [
    {
     "data": {
      "image/png": "[encoded data removed]",
      "text/plain": [
       "<Figure size 800x600 with 1 Axes>"
      ]
     },
     "metadata": {},
     "output_type": "display_data"
    },
    {
     "data": {
      "image/png": "[encoded data removed]",
      "text/plain": [
       "<Figure size 800x600 with 1 Axes>"
      ]
     },
     "metadata": {},
     "output_type": "display_data"
    },
    {
     "data": {
      "image/png": "[encoded data removed]",
      "text/plain": [
       "<Figure size 1000x600 with 1 Axes>"
      ]
     },
     "metadata": {},
     "output_type": "display_data"
    }
   ],
   "source": [
    "import sys\n",
    "sys.path.append('../src')\n",
    "from utils import plot_histograma_dst, plot_boxplot_dst, plot_sunspots_boxplot\n",
    "\n",
    "# Histograma do índice dst com hue\n",
    "plot_histograma_dst(dst, coluna_valor='dst', coluna_hue='period', salvar=False)\n",
    "\n",
    "# Boxplot simples\n",
    "plot_boxplot_dst(dst, coluna_x='period', coluna_y='dst')\n",
    "\n",
    "# 4. Execute a função\n",
    "plot_sunspots_boxplot(sunspots)\n"
   ]
  },
  {
   "cell_type": "code",
   "execution_count": 69,
   "id": "929a8bee",
   "metadata": {},
   "outputs": [
    {
     "name": "stdout",
     "output_type": "stream",
     "text": [
      "Index(['bx_gse', 'by_gse', 'bz_gse', 'theta_gse', 'phi_gse', 'bx_gsm',\n",
      "       'by_gsm', 'bz_gsm', 'theta_gsm', 'phi_gsm', 'mag', 'den', 'vel', 'temp',\n",
      "       'source'],\n",
      "      dtype='object')\n"
     ]
    }
   ],
   "source": [
    "print(solar_wind.columns)"
   ]
  },
  {
   "cell_type": "code",
   "execution_count": 12,
   "id": "1c8e787b",
   "metadata": {},
   "outputs": [
    {
     "data": {
      "image/png": "[encoded data removed]",
      "text/plain": [
       "<Figure size 1000x1500 with 5 Axes>"
      ]
     },
     "metadata": {},
     "output_type": "display_data"
    }
   ],
   "source": [
    "import matplotlib.pyplot as plt\n",
    "import seaborn as sns\n",
    "import pandas as pd\n",
    "\n",
    "# Carregar o dataframe\n",
    "# solar_wind = pd.read_csv(\"../data/raw/solar_wind.csv\")\n",
    "\n",
    "# Lista das variáveis numéricas que queremos visualizar\n",
    "variaveis = ['bz_gsm', 'theta_gsm', 'mag', 'vel', 'temp']\n",
    "\n",
    "fig, axes = plt.subplots(nrows=len(variaveis), ncols=1, figsize=(10, 15), constrained_layout=True)\n",
    "\n",
    "if len(variaveis) == 1:\n",
    "    axes = [axes]\n",
    "\n",
    "for i, var in enumerate(variaveis):\n",
    "    try:\n",
    "        sns.boxplot(\n",
    "            x='per',\n",
    "            y=var,\n",
    "            data=solar_wind,\n",
    "            hue='per',\n",
    "            palette=\"Set2\",\n",
    "            ax=axes[i]\n",
    "        )\n",
    "\n",
    "        axes[i].spines['top'].set_visible(False)\n",
    "        axes[i].spines['right'].set_visible(False)\n",
    "        axes[i].spines['bottom'].set_linewidth(1.5)\n",
    "        axes[i].spines['left'].set_linewidth(1.5)\n",
    "        axes[i].set_xlabel('')\n",
    "        axes[i].grid(False)\n",
    "\n",
    "        legend = axes[i].get_legend()\n",
    "        if legend is not None:\n",
    "            legend.remove()\n",
    "\n",
    "    except KeyError as e:\n",
    "        print(f\"Erro: Variável {e} não encontrada no DataFrame.\")\n",
    "        continue\n",
    "\n",
    "plt.show()\n"
   ]
  }
 ],
 "metadata": {
  "kernelspec": {
   "display_name": ".venv",
   "language": "python",
   "name": "python3"
  },
  "language_info": {
   "codemirror_mode": {
    "name": "ipython",
    "version": 3
   },
   "file_extension": ".py",
   "mimetype": "text/x-python",
   "name": "python",
   "nbconvert_exporter": "python",
   "pygments_lexer": "ipython3",
   "version": "3.10.12"
  }
 },
 "nbformat": 4,
 "nbformat_minor": 5
}
